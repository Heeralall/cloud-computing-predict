{
  "cells": [
    {
      "cell_type": "markdown",
      "metadata": {
        "id": "view-in-github",
        "colab_type": "text"
      },
      "source": [
        "<a href=\"https://colab.research.google.com/github/Heeralall/cloud-computing-predict/blob/main/Copy_of_Data_profiling_student_version.ipynb\" target=\"_parent\"><img src=\"https://colab.research.google.com/assets/colab-badge.svg\" alt=\"Open In Colab\"/></a>"
      ]
    },
    {
      "cell_type": "markdown",
      "metadata": {
        "id": "sFNACB81BX9t"
      },
      "source": [
        "# Processing Big Data - Data profiling\n",
        "\n",
        "© Explore Data Science Academy\n",
        "\n",
        "## Honour Code\n",
        "I {Koben Heeralall}, confirm - by submitting this document - that the solutions in this notebook are a result of my own work and that I abide by the [EDSA honour code](https://drive.google.com/file/d/1QDCjGZJ8-FmJE3bZdIQNwnJyQKPhHZBn/view?usp=sharing).\n",
        "    Non-compliance with the honour code constitutes a material breach of contract.\n",
        "\n",
        "## Context\n",
        "\n",
        "Having completed the first step - data ingestion, the data now needs to be thoroughly prepared so that it is readable, reliable and robust. As the Data Engineer in the team, this will be your responsibility. The Data Scientists are looking to you to clean this data so that model development and deployment become seamless when the data is used in a production environment. Having completed your Data Engineering course recently, your manager Gnissecorp Atadgid, asks you to create data summaries and perform checks using the six dimensions of data quality.\n",
        "\n",
        "<div align=\"center\" style=\"width: 600px; font-size: 80%; text-align: center; margin: 0 auto\">\n",
        "<img src=\"https://github.com/Explore-AI/Pictures/raw/master/data_engineering/transform/predict/DataQuality.jpg\"\n",
        "     alt=\"Data Quality\"\n",
        "     style=\"float: center; padding-bottom=0.5em\"\n",
        "     width=100%/>\n",
        "     <p><em>Figure 1. Six dimensions of data quality</em></p>\n",
        "</div>"
      ]
    },
    {
      "cell_type": "code",
      "source": [],
      "metadata": {
        "id": "CTBgtnsX_sJk"
      },
      "execution_count": null,
      "outputs": []
    },
    {
      "cell_type": "markdown",
      "metadata": {
        "id": "z-IsOo8xB7P7"
      },
      "source": [
        "### Upload from local\n",
        "The following cell is to upload a file from your local machine to Google Colab. You will have a dialogue box as indicated where you will select the file and have it uploaded to the notebook."
      ]
    },
    {
      "cell_type": "code",
      "execution_count": 1,
      "metadata": {
        "colab": {
          "base_uri": "https://localhost:8080/",
          "height": 107
        },
        "id": "lvT_lciECPs8",
        "outputId": "cfaab07c-dde6-49a8-b51f-bd16ea3ae146"
      },
      "outputs": [
        {
          "output_type": "display_data",
          "data": {
            "text/plain": [
              "<IPython.core.display.HTML object>"
            ],
            "text/html": [
              "\n",
              "     <input type=\"file\" id=\"files-7cffca25-8711-465a-9caf-cfb5ae65c959\" name=\"files[]\" multiple disabled\n",
              "        style=\"border:none\" />\n",
              "     <output id=\"result-7cffca25-8711-465a-9caf-cfb5ae65c959\">\n",
              "      Upload widget is only available when the cell has been executed in the\n",
              "      current browser session. Please rerun this cell to enable.\n",
              "      </output>\n",
              "      <script>// Copyright 2017 Google LLC\n",
              "//\n",
              "// Licensed under the Apache License, Version 2.0 (the \"License\");\n",
              "// you may not use this file except in compliance with the License.\n",
              "// You may obtain a copy of the License at\n",
              "//\n",
              "//      http://www.apache.org/licenses/LICENSE-2.0\n",
              "//\n",
              "// Unless required by applicable law or agreed to in writing, software\n",
              "// distributed under the License is distributed on an \"AS IS\" BASIS,\n",
              "// WITHOUT WARRANTIES OR CONDITIONS OF ANY KIND, either express or implied.\n",
              "// See the License for the specific language governing permissions and\n",
              "// limitations under the License.\n",
              "\n",
              "/**\n",
              " * @fileoverview Helpers for google.colab Python module.\n",
              " */\n",
              "(function(scope) {\n",
              "function span(text, styleAttributes = {}) {\n",
              "  const element = document.createElement('span');\n",
              "  element.textContent = text;\n",
              "  for (const key of Object.keys(styleAttributes)) {\n",
              "    element.style[key] = styleAttributes[key];\n",
              "  }\n",
              "  return element;\n",
              "}\n",
              "\n",
              "// Max number of bytes which will be uploaded at a time.\n",
              "const MAX_PAYLOAD_SIZE = 100 * 1024;\n",
              "\n",
              "function _uploadFiles(inputId, outputId) {\n",
              "  const steps = uploadFilesStep(inputId, outputId);\n",
              "  const outputElement = document.getElementById(outputId);\n",
              "  // Cache steps on the outputElement to make it available for the next call\n",
              "  // to uploadFilesContinue from Python.\n",
              "  outputElement.steps = steps;\n",
              "\n",
              "  return _uploadFilesContinue(outputId);\n",
              "}\n",
              "\n",
              "// This is roughly an async generator (not supported in the browser yet),\n",
              "// where there are multiple asynchronous steps and the Python side is going\n",
              "// to poll for completion of each step.\n",
              "// This uses a Promise to block the python side on completion of each step,\n",
              "// then passes the result of the previous step as the input to the next step.\n",
              "function _uploadFilesContinue(outputId) {\n",
              "  const outputElement = document.getElementById(outputId);\n",
              "  const steps = outputElement.steps;\n",
              "\n",
              "  const next = steps.next(outputElement.lastPromiseValue);\n",
              "  return Promise.resolve(next.value.promise).then((value) => {\n",
              "    // Cache the last promise value to make it available to the next\n",
              "    // step of the generator.\n",
              "    outputElement.lastPromiseValue = value;\n",
              "    return next.value.response;\n",
              "  });\n",
              "}\n",
              "\n",
              "/**\n",
              " * Generator function which is called between each async step of the upload\n",
              " * process.\n",
              " * @param {string} inputId Element ID of the input file picker element.\n",
              " * @param {string} outputId Element ID of the output display.\n",
              " * @return {!Iterable<!Object>} Iterable of next steps.\n",
              " */\n",
              "function* uploadFilesStep(inputId, outputId) {\n",
              "  const inputElement = document.getElementById(inputId);\n",
              "  inputElement.disabled = false;\n",
              "\n",
              "  const outputElement = document.getElementById(outputId);\n",
              "  outputElement.innerHTML = '';\n",
              "\n",
              "  const pickedPromise = new Promise((resolve) => {\n",
              "    inputElement.addEventListener('change', (e) => {\n",
              "      resolve(e.target.files);\n",
              "    });\n",
              "  });\n",
              "\n",
              "  const cancel = document.createElement('button');\n",
              "  inputElement.parentElement.appendChild(cancel);\n",
              "  cancel.textContent = 'Cancel upload';\n",
              "  const cancelPromise = new Promise((resolve) => {\n",
              "    cancel.onclick = () => {\n",
              "      resolve(null);\n",
              "    };\n",
              "  });\n",
              "\n",
              "  // Wait for the user to pick the files.\n",
              "  const files = yield {\n",
              "    promise: Promise.race([pickedPromise, cancelPromise]),\n",
              "    response: {\n",
              "      action: 'starting',\n",
              "    }\n",
              "  };\n",
              "\n",
              "  cancel.remove();\n",
              "\n",
              "  // Disable the input element since further picks are not allowed.\n",
              "  inputElement.disabled = true;\n",
              "\n",
              "  if (!files) {\n",
              "    return {\n",
              "      response: {\n",
              "        action: 'complete',\n",
              "      }\n",
              "    };\n",
              "  }\n",
              "\n",
              "  for (const file of files) {\n",
              "    const li = document.createElement('li');\n",
              "    li.append(span(file.name, {fontWeight: 'bold'}));\n",
              "    li.append(span(\n",
              "        `(${file.type || 'n/a'}) - ${file.size} bytes, ` +\n",
              "        `last modified: ${\n",
              "            file.lastModifiedDate ? file.lastModifiedDate.toLocaleDateString() :\n",
              "                                    'n/a'} - `));\n",
              "    const percent = span('0% done');\n",
              "    li.appendChild(percent);\n",
              "\n",
              "    outputElement.appendChild(li);\n",
              "\n",
              "    const fileDataPromise = new Promise((resolve) => {\n",
              "      const reader = new FileReader();\n",
              "      reader.onload = (e) => {\n",
              "        resolve(e.target.result);\n",
              "      };\n",
              "      reader.readAsArrayBuffer(file);\n",
              "    });\n",
              "    // Wait for the data to be ready.\n",
              "    let fileData = yield {\n",
              "      promise: fileDataPromise,\n",
              "      response: {\n",
              "        action: 'continue',\n",
              "      }\n",
              "    };\n",
              "\n",
              "    // Use a chunked sending to avoid message size limits. See b/62115660.\n",
              "    let position = 0;\n",
              "    do {\n",
              "      const length = Math.min(fileData.byteLength - position, MAX_PAYLOAD_SIZE);\n",
              "      const chunk = new Uint8Array(fileData, position, length);\n",
              "      position += length;\n",
              "\n",
              "      const base64 = btoa(String.fromCharCode.apply(null, chunk));\n",
              "      yield {\n",
              "        response: {\n",
              "          action: 'append',\n",
              "          file: file.name,\n",
              "          data: base64,\n",
              "        },\n",
              "      };\n",
              "\n",
              "      let percentDone = fileData.byteLength === 0 ?\n",
              "          100 :\n",
              "          Math.round((position / fileData.byteLength) * 100);\n",
              "      percent.textContent = `${percentDone}% done`;\n",
              "\n",
              "    } while (position < fileData.byteLength);\n",
              "  }\n",
              "\n",
              "  // All done.\n",
              "  yield {\n",
              "    response: {\n",
              "      action: 'complete',\n",
              "    }\n",
              "  };\n",
              "}\n",
              "\n",
              "scope.google = scope.google || {};\n",
              "scope.google.colab = scope.google.colab || {};\n",
              "scope.google.colab._files = {\n",
              "  _uploadFiles,\n",
              "  _uploadFilesContinue,\n",
              "};\n",
              "})(self);\n",
              "</script> "
            ]
          },
          "metadata": {}
        },
        {
          "output_type": "stream",
          "name": "stdout",
          "text": [
            "Saving part-00001-52e1da7d-39e6-46bc-8167-46297b52948b-c000.snappy.parquet to part-00001-52e1da7d-39e6-46bc-8167-46297b52948b-c000.snappy.parquet\n",
            "Saving part-00000-52e1da7d-39e6-46bc-8167-46297b52948b-c000.snappy.parquet to part-00000-52e1da7d-39e6-46bc-8167-46297b52948b-c000.snappy.parquet\n"
          ]
        }
      ],
      "source": [
        "\"\"\"\n",
        "This cell is used to import data/files from your local machine to colab\n",
        "\"\"\"\n",
        "from google.colab import files\n",
        "uploaded = files.upload()"
      ]
    },
    {
      "cell_type": "code",
      "source": [
        "from google.colab import drive\n",
        "drive.mount('/content/drive')"
      ],
      "metadata": {
        "id": "VOoAUm_irqYH",
        "colab": {
          "base_uri": "https://localhost:8080/"
        },
        "outputId": "aaf5ce01-a7c7-41ca-abec-cb5c695daefc"
      },
      "execution_count": null,
      "outputs": [
        {
          "output_type": "stream",
          "name": "stdout",
          "text": [
            "Mounted at /content/drive\n"
          ]
        }
      ]
    },
    {
      "cell_type": "code",
      "execution_count": 2,
      "metadata": {
        "id": "Szv6qk0wCdLm"
      },
      "outputs": [],
      "source": [
        "\"\"\"\n",
        "Colab is essentially running on a linux machine on Google Cloud Platform.\n",
        "This means that should you want to install something in your notebook you\n",
        "would have to run headless installs as well as wget. Copying the installs\n",
        "below will ensure that you have spark and java installed in the environment\n",
        "as well as available for the notebook.\n",
        "\"\"\"\n",
        "!apt-get install openjdk-17-jdk-headless -qq > /dev/null\n",
        "!wget -q https://archive.apache.org/dist/spark/spark-3.5.4/spark-3.5.4-bin-hadoop3.tgz\n",
        "!tar xf spark-3.5.4-bin-hadoop3.tgz\n",
        "!pip install -q findspark"
      ]
    },
    {
      "cell_type": "code",
      "execution_count": 3,
      "metadata": {
        "id": "AQ0meY6PCch-"
      },
      "outputs": [],
      "source": [
        "\"\"\"\n",
        "This section helps in rendering your notebook operable and ensuring that\n",
        "your environment variables for spark are correct. Running this cell in any\n",
        "notebook allows for any unresolved spark environment to be fixed.\n",
        "\"\"\"\n",
        "import os\n",
        "os.environ[\"JAVA_HOME\"] = \"/usr/lib/jvm/java-17-openjdk-amd64\"\n",
        "os.environ[\"SPARK_HOME\"] = \"/content/spark-3.5.4-bin-hadoop3\""
      ]
    },
    {
      "cell_type": "code",
      "execution_count": 4,
      "metadata": {
        "id": "mdqBDSWxCccH"
      },
      "outputs": [],
      "source": [
        "\"\"\"\n",
        "We need to locate Spark in the system. For that, we import findspark and\n",
        "use the findspark.init() method. If you want to know the location where\n",
        "Spark is installed, use findspark.find()\n",
        "\"\"\"\n",
        "import findspark\n",
        "findspark.init()\n",
        "findspark.find()\n",
        "import pyspark"
      ]
    },
    {
      "cell_type": "markdown",
      "metadata": {
        "id": "ttW56rEsBX91"
      },
      "source": [
        "## Import libraries\n",
        "Below we import the libraries required to complete this section of the predict."
      ]
    },
    {
      "cell_type": "code",
      "execution_count": 5,
      "metadata": {
        "id": "cBDN1g8OBX92"
      },
      "outputs": [],
      "source": [
        "import pandas as pd\n",
        "import numpy as np\n",
        "import matplotlib.pyplot as plt\n",
        "\n",
        "from pyspark import SparkContext\n",
        "from pyspark.sql import SparkSession\n",
        "from pyspark.sql import functions as F\n",
        "from pyspark.sql.types import *"
      ]
    },
    {
      "cell_type": "markdown",
      "metadata": {
        "id": "tEuecDBjBX94"
      },
      "source": [
        "Remember that we need a `SparkContext` and `SparkSession` to interface with Spark.\n",
        "We will mostly be using the `SparkContext` to interact with RDDs\n",
        "and the `SparkSession` to interface with Python objects.\n",
        "\n",
        "> ℹ️ **Instructions** ℹ️\n",
        ">\n",
        ">Initialise a new **Spark Context** and **Session** that you will use to interface with Spark."
      ]
    },
    {
      "cell_type": "code",
      "execution_count": 6,
      "metadata": {
        "id": "Ghkq51AcBX96"
      },
      "outputs": [],
      "source": [
        "#TODO: Write your code here.\n",
        "# Create SparkContext\n",
        "sc = SparkContext()\n",
        "\n",
        "# Create SparkSession\n",
        "spark = SparkSession \\\n",
        "    .builder \\\n",
        "    .appName(\"2403PTDEKOBHEE\") \\\n",
        "    .getOrCreate()"
      ]
    },
    {
      "cell_type": "markdown",
      "metadata": {
        "id": "2s9k2V3dBX97"
      },
      "source": [
        "## Parquet files\n",
        "In the previous section of the predict, you generated parquet files to your local directory. You will be making use of these files to continue with this section of the predict. Please make sure that your parquet files are specifically for the year **1962**. Any other year used outside of **1962** will produce incorrect answers and have a negative impact on your overall predict mark.\n",
        "\n",
        "> ℹ️ **Instructions** ℹ️\n",
        ">\n",
        "> Read the parquet files stored in your directory for the year **1962** into a Spark DataFrame."
      ]
    },
    {
      "cell_type": "code",
      "execution_count": 7,
      "metadata": {
        "id": "L_nKNDXEBX98"
      },
      "outputs": [],
      "source": [
        "#TODO: Write your code here\n",
        "parquet_files1 = \"/content/part-00000-52e1da7d-39e6-46bc-8167-46297b52948b-c000.snappy.parquet\"\n",
        "parquet_files2 = \"/content/part-00001-52e1da7d-39e6-46bc-8167-46297b52948b-c000.snappy.parquet\"\n",
        "\n",
        "df = spark.read.parquet(parquet_files1,parquet_files2 )"
      ]
    },
    {
      "cell_type": "markdown",
      "metadata": {
        "id": "1DN8AxyrBX9_"
      },
      "source": [
        "## Metadata\n",
        "\n",
        "Metadata is data containing additional information about the data itself. In the cloud storage, there is a metadata file called [`symbols_valid_meta.csv`](https://processing-big-data-predict-stocks-data.s3.eu-west-1.amazonaws.com/symbols_valid_meta.csv) that is collocated with the stock market data. You will need to download this to use when performing your data quality checks.\n",
        "\n",
        "> ℹ️ **Instructions** ℹ️\n",
        ">\n",
        "> Download the metadata from the S3 bucket and read it into a Spark DataFrame."
      ]
    },
    {
      "cell_type": "code",
      "source": [],
      "metadata": {
        "id": "2KmMlbM5CLFv"
      },
      "execution_count": null,
      "outputs": []
    },
    {
      "cell_type": "code",
      "execution_count": 8,
      "metadata": {
        "id": "gVYA9stsBX-A"
      },
      "outputs": [],
      "source": [
        "#TODO: Write your code here\n",
        "import pandas as pd\n",
        "# Read the CSV file using pandas\n",
        "metadata_pd = pd.read_csv('https://colab.research.google.com/corgiredirector?site=https%3A%2F%2Fprocessing-big-data-predict-stocks-data.s3.eu-west-1.amazonaws.com%2Fsymbols_valid_meta.csv')\n",
        "# Convert the pandas DataFrame to a Spark DataFrame\n",
        "metadata = spark.createDataFrame(metadata_pd)\n",
        ""
      ]
    },
    {
      "cell_type": "markdown",
      "metadata": {
        "id": "fgVZEqSNBX-C"
      },
      "source": [
        "## Data Accuracy\n",
        "Data accuracy is the degree to which data correctly describes a \"real world\" object or event.\n",
        "\n",
        "It is important to do checks to determine the basic integrity of the dataset; do the values fall within expected ranges?\n",
        "\n",
        "Most of the possible errors relating to data accuracy can occur at collection time. In our case, it is not possible to test the collection time accuracy, so we have to infer from ranges and summary statistics. Here you need to look closely at each field to see if its values make sense, with no strange surprises.\n",
        "\n",
        "In assessing accuracy, it is important to look into precision as well. Do you need seven decimals, or will one or two suffice?\n",
        "\n",
        "- **Measured by**: The degree to which the data mirrors the characteristics of the real-world object or objects it represents;\n",
        "- **Units**: The percentage of data entries that pass the data accuracy rules;\n",
        "- **Related to**: Validity, Uniqueness, Consistency."
      ]
    },
    {
      "cell_type": "markdown",
      "metadata": {
        "id": "_xNCCTp0BX-C"
      },
      "source": [
        "> ℹ️ **Instructions** ℹ️\n",
        ">\n",
        "> Generate summary statistics to explore your data. Make sure you understand the ranges, means, extremums, and deviations found in the data set."
      ]
    },
    {
      "cell_type": "code",
      "execution_count": 9,
      "metadata": {
        "id": "JKem5xm5BX-D",
        "colab": {
          "base_uri": "https://localhost:8080/"
        },
        "outputId": "7d66a3ae-0c8f-437b-c57f-82865815c2c6"
      },
      "outputs": [
        {
          "output_type": "stream",
          "name": "stdout",
          "text": [
            "+-------+------------------+------------------+-------------------+--------------------+------------------+-----------------+-----+\n",
            "|summary|              open|              high|                low|               close|            volume|        adj_close|stock|\n",
            "+-------+------------------+------------------+-------------------+--------------------+------------------+-----------------+-----+\n",
            "|  count|              5106|              5106|               5064|                5106|              4833|             5085| 5106|\n",
            "|   mean|1.0904873526012002|16.757624946793637| 15.728619917198033|   16.64199179044607| 6.057314297537761|540930.2458210423| NULL|\n",
            "| stddev| 2.364453525304909|53.914073481935446| 51.322922898144014|   53.54677139900802|25.178942061410506|864596.2440525506| NULL|\n",
            "|    min|               0.0|               0.0|0.05237788334488869|0.053624976426362984|                 0|              0.0|   AA|\n",
            "|    max|              20.0|             287.5|              282.5|               285.0|               127|        1.95456E7|  XOM|\n",
            "+-------+------------------+------------------+-------------------+--------------------+------------------+-----------------+-----+\n",
            "\n"
          ]
        }
      ],
      "source": [
        "#TODO: Write your code here\n",
        "df.describe().show()\n"
      ]
    },
    {
      "cell_type": "markdown",
      "metadata": {
        "id": "K5Mwln-uBX-D"
      },
      "source": [
        "> ℹ️ **Instructions** ℹ️\n",
        ">\n",
        "> Generate histograms for the six numerical attributes found in the data to understand the distribution of values.\n",
        ">\n",
        ">*You may use as many coding cells as necessary.*"
      ]
    },
    {
      "cell_type": "code",
      "execution_count": 10,
      "metadata": {
        "id": "N34VBTdTBX-E",
        "colab": {
          "base_uri": "https://localhost:8080/",
          "height": 1000
        },
        "outputId": "cd069ca7-694f-4e29-c327-f4dfb9513ca6"
      },
      "outputs": [
        {
          "output_type": "display_data",
          "data": {
            "text/plain": [
              "<Figure size 640x480 with 1 Axes>"
            ],
            "image/png": "[encoded data removed]"
          },
          "metadata": {}
        },
        {
          "output_type": "display_data",
          "data": {
            "text/plain": [
              "<Figure size 640x480 with 1 Axes>"
            ],
            "image/png": "[encoded data removed]"
          },
          "metadata": {}
        },
        {
          "output_type": "display_data",
          "data": {
            "text/plain": [
              "<Figure size 640x480 with 1 Axes>"
            ],
            "image/png": "[encoded data removed]"
          },
          "metadata": {}
        },
        {
          "output_type": "display_data",
          "data": {
            "text/plain": [
              "<Figure size 640x480 with 1 Axes>"
            ],
            "image/png": "[encoded data removed]"
          },
          "metadata": {}
        },
        {
          "output_type": "display_data",
          "data": {
            "text/plain": [
              "<Figure size 640x480 with 1 Axes>"
            ],
            "image/png": "[encoded data removed]"
          },
          "metadata": {}
        },
        {
          "output_type": "display_data",
          "data": {
            "text/plain": [
              "<Figure size 640x480 with 1 Axes>"
            ],
            "image/png": "[encoded data removed]"
          },
          "metadata": {}
        }
      ],
      "source": [
        "#TODO: Write your code here\n",
        "import matplotlib.pyplot as plt\n",
        "\n",
        "# Assuming the numerical columns are: open, high, low, close, adj_close, volume\n",
        "numerical_cols = ['open', 'high', 'low', 'close', 'adj_close', 'volume']\n",
        "\n",
        "# Loop through numerical columns and generate histograms\n",
        "for col in numerical_cols:\n",
        "    # Convert Spark DataFrame column to Pandas Series\n",
        "    data = df.select(col).toPandas()[col]\n",
        "\n",
        "    # Drop NaN values from the data before plotting\n",
        "    data = data.dropna()\n",
        "\n",
        "    # Create histogram using matplotlib\n",
        "    plt.hist(data, bins=20)  # Adjust 'bins' for desired granularity\n",
        "    plt.title(f'Histogram of {col}')\n",
        "    plt.xlabel(col)\n",
        "    plt.ylabel('Frequency')\n",
        "    plt.show()\n"
      ]
    },
    {
      "cell_type": "markdown",
      "metadata": {
        "id": "NJNUY54_BX-F"
      },
      "source": [
        "> ℹ️ **Instructions** ℹ️\n",
        ">\n",
        "> Investigate the **open** column to identify stocks that have open values greater than 2, and note any anomalies that you find in the data.\n",
        ">\n",
        ">*You may use as many coding cells as necessary.*"
      ]
    },
    {
      "cell_type": "code",
      "execution_count": 11,
      "metadata": {
        "id": "tVlMdgQ3BX-F",
        "colab": {
          "base_uri": "https://localhost:8080/"
        },
        "outputId": "a976a6a3-152c-4df4-96b6-0c180221184a"
      },
      "outputs": [
        {
          "output_type": "stream",
          "name": "stdout",
          "text": [
            "+----------+-----------------+------------------+-----------------+-----------------+------+---------+-----+\n",
            "|      date|             open|              high|              low|            close|volume|adj_close|stock|\n",
            "+----------+-----------------+------------------+-----------------+-----------------+------+---------+-----+\n",
            "|1962-02-19|5.839290142059326| 5.907374858856201|5.839290142059326|5.863319873809815|     1|  29900.0|   AA|\n",
            "|1962-02-19|5.481634140014648|5.5284857749938965|5.481634140014648|5.516772747039795|     1|  32000.0| ARNC|\n",
            "|1962-02-19|7.260000228881836| 7.293333530426025|7.173333168029785|7.186666488647461|     0| 280000.0|  IBM|\n",
            "|1962-02-14|5.839290142059326| 5.839290142059326|5.747175216674805|5.807250022888184|     1|  56500.0|   AA|\n",
            "|1962-02-14|5.481634140014648| 5.481634140014648|5.399643898010254|  5.4347825050354|     1|  60400.0| ARNC|\n",
            "+----------+-----------------+------------------+-----------------+-----------------+------+---------+-----+\n",
            "only showing top 5 rows\n",
            "\n",
            "+-----+-----+\n",
            "|stock|count|\n",
            "+-----+-----+\n",
            "|   AA|  252|\n",
            "|ARNCA|   21|\n",
            "|   PG|   23|\n",
            "|  IBM|  252|\n",
            "| ARNC|  231|\n",
            "+-----+-----+\n",
            "\n"
          ]
        }
      ],
      "source": [
        "#TODO: Write your code here\n",
        "# Filter for stocks with open values greater than 2\n",
        "open_greater_than_2 = df.filter(df['open'] > 2)\n",
        "\n",
        "# Display the results\n",
        "open_greater_than_2.show(5)\n",
        "\n",
        "# Optionally, group by stock and count occurrences\n",
        "open_greater_than_2.groupBy('stock').count().show(5)"
      ]
    },
    {
      "cell_type": "markdown",
      "metadata": {
        "id": "AHyQgjCPBX-G"
      },
      "source": [
        " ## 📔️**Notes** 📔️\n",
        "\n",
        " *Use this cell to note down any potential findings.*\n",
        "\n",
        " 1. duplicated open values on consecutive days despite non-zero volume\n",
        " 2. \"PG\" ticker has multiple opening prices at 20.0 during 1962-08\n",
        " 3. possible loss of data quality for \"IBM\" ticker due to low number of significant figures"
      ]
    },
    {
      "cell_type": "markdown",
      "metadata": {
        "id": "Z5RlGugzBX-G"
      },
      "source": [
        "> ℹ️ **Instructions** ℹ️\n",
        ">\n",
        "> Investigate **high**, **low**, **close**, and **adj_close** to determine if any stocks may be deviating from the normal ranges of the data set. Note down the stock(s) that you come across.\n",
        ">\n",
        ">*You may use as many coding cells as necessary.*"
      ]
    },
    {
      "cell_type": "code",
      "execution_count": 12,
      "metadata": {
        "id": "n2gTLjFCBX-H",
        "colab": {
          "base_uri": "https://localhost:8080/"
        },
        "outputId": "20b44328-96ce-4b93-fe8e-c89fef5bc43a"
      },
      "outputs": [
        {
          "output_type": "stream",
          "name": "stdout",
          "text": [
            "Outliers in high:\n",
            "+-----+-------+\n",
            "|stock|   high|\n",
            "+-----+-------+\n",
            "|  DTE|29.9375|\n",
            "|  NAV|  280.0|\n",
            "|  DTE|30.1875|\n",
            "|  NAV|276.875|\n",
            "|  DTE|30.3125|\n",
            "+-----+-------+\n",
            "only showing top 5 rows\n",
            "\n",
            "Outliers in low:\n",
            "+-----+-------+\n",
            "|stock|    low|\n",
            "+-----+-------+\n",
            "|  CVX|   20.0|\n",
            "|  DTE|  29.75|\n",
            "|  NAV|276.875|\n",
            "|  CVX|   20.0|\n",
            "|  DTE|29.6875|\n",
            "+-----+-------+\n",
            "only showing top 5 rows\n",
            "\n",
            "Outliers in close:\n",
            "+-----+-------+\n",
            "|stock|  close|\n",
            "+-----+-------+\n",
            "|  DTE|29.9375|\n",
            "|  NAV|279.375|\n",
            "|  DTE| 29.875|\n",
            "|  NAV| 273.75|\n",
            "|  DTE|  30.25|\n",
            "+-----+-------+\n",
            "only showing top 5 rows\n",
            "\n",
            "Outliers in adj_close:\n",
            "+-----+---------+\n",
            "|stock|adj_close|\n",
            "+-----+---------+\n",
            "|   GE|1557500.0|\n",
            "|  XOM|1657600.0|\n",
            "|   GE|1617400.0|\n",
            "|  JNJ|2289600.0|\n",
            "|  JNJ|2160000.0|\n",
            "+-----+---------+\n",
            "only showing top 5 rows\n",
            "\n"
          ]
        }
      ],
      "source": [
        "#TODO: Write your code here\n",
        "import pyspark.sql.functions as F\n",
        "\n",
        "# Define a function to calculate the IQR and bounds\n",
        "def calculate_outlier_bounds(df, column):\n",
        "    quantiles = df.approxQuantile(column, [0.25, 0.75], 0.05)\n",
        "    Q1 = quantiles[0]\n",
        "    Q3 = quantiles[1]\n",
        "    IQR = Q3 - Q1\n",
        "    lower_bound = Q1 - 1.5 * IQR\n",
        "    upper_bound = Q3 + 1.5 * IQR\n",
        "    return lower_bound, upper_bound\n",
        "\n",
        "# Loop through the columns and identify outliers\n",
        "for column in ['high', 'low', 'close', 'adj_close']:\n",
        "    lower_bound, upper_bound = calculate_outlier_bounds(df, column)\n",
        "    outliers = df.filter((df[column] < lower_bound) | (df[column] > upper_bound))\n",
        "\n",
        "    # Display the outlier stocks and their values\n",
        "    print(f\"Outliers in {column}:\")\n",
        "    outliers.select('stock', column).show(5)"
      ]
    },
    {
      "cell_type": "markdown",
      "metadata": {
        "id": "mE57FgafBX-H"
      },
      "source": [
        " ## 📔️**Notes** 📔️\n",
        "\n",
        " *Use this cell to note down any potential findings.*\n",
        "\n",
        " 1. all values of \"NAV\" lie at least 3.8 stddev above the mean\n",
        " 2. stddev > mean (~3.2 times larger)\n",
        " 3. multiple repeated values along columns for all tickers\n",
        " 4. multiple 'null' values for \"low\" value of NAV"
      ]
    },
    {
      "cell_type": "code",
      "source": [],
      "metadata": {
        "id": "Ub2_riB3IlqX"
      },
      "execution_count": null,
      "outputs": []
    },
    {
      "cell_type": "markdown",
      "metadata": {
        "id": "r0NQNCFFBX-I"
      },
      "source": [
        "\n",
        "\n",
        "## Completeness\n",
        "\n",
        "Completeness is the proportion of stored data against the potential of “100% complete\". This is the degree to which the required data is in the dataset.\n",
        "\n",
        "Does the dataset have missing values, or if it is time-series data, does it have time period gaps? Has a bias been introduced that may change your assumptions or affect your results?\n",
        "\n",
        "Completeness issues can occur at the row level (gaps within the dataset) or the field level (one entry missing). At the field level, entire fields can being empty, or >80% of a field's data missing.\n",
        "\n",
        "Another issue that may occur is default values. A typical example of this is where a logger sends back a 0 instead of a null value, which can greatly skew any attempts at modelling. This is where it is instrumental to employ domain knowledge when assessing a dataset.\n",
        "\n",
        "- **Measured by**: A measure of the absence of blank (null) values or the presence of non-blank values;\n",
        "- **Units**: Percentage;\n",
        "- **Related to**: Validity and Accuracy."
      ]
    },
    {
      "cell_type": "markdown",
      "metadata": {
        "id": "hxbeZ0gkBX-I"
      },
      "source": [
        "### Missing values\n",
        "\n",
        "> ℹ️ **Instructions** ℹ️\n",
        ">\n",
        "> Write code to identify and count the number of missing values (nulls) in the dataset. Include a percentage to describe the proportion of missing values per column. Output the results in the following manner:\n",
        ">\n",
        "> `There are <number_of_missing_values> (<percentage>) null values in <column_name> column`\n",
        ">\n",
        ">*You may use as many coding cells as necessary.*"
      ]
    },
    {
      "cell_type": "code",
      "execution_count": 13,
      "metadata": {
        "id": "bUyzUb4uBX-I",
        "colab": {
          "base_uri": "https://localhost:8080/"
        },
        "outputId": "f73524d1-3a8b-48f4-df97-acadcc85672e"
      },
      "outputs": [
        {
          "output_type": "stream",
          "name": "stdout",
          "text": [
            "There are 0 (0.00%) null values in date column\n",
            "There are 0 (0.00%) null values in open column\n",
            "There are 0 (0.00%) null values in high column\n",
            "There are 42 (0.82%) null values in low column\n",
            "There are 0 (0.00%) null values in close column\n",
            "There are 273 (5.35%) null values in volume column\n",
            "There are 21 (0.41%) null values in adj_close column\n",
            "There are 0 (0.00%) null values in stock column\n"
          ]
        }
      ],
      "source": [
        "#TODO: Write your code here\n",
        "from pyspark.sql.functions import col, count, when, isnan\n",
        "\n",
        "from pyspark.sql.functions import col, count, when, isnan\n",
        "\n",
        "# Calculate missing values and percentages for each column\n",
        "for column in df.columns:\n",
        "    # Check if the column is numeric before applying isnan\n",
        "    if df.schema[column].dataType in [DoubleType(), FloatType()]:\n",
        "        missing_count = df.select(count(when(isnan(column) | col(column).isNull(), column))).first()[0]\n",
        "    else:\n",
        "        missing_count = df.select(count(when(col(column).isNull(), column))).first()[0] # For non-numeric columns, only check for nulls\n",
        "    total_count = df.count()\n",
        "    percentage = (missing_count / total_count) * 100\n",
        "    print(f\"There are {missing_count} ({percentage:.2f}%) null values in {column} column\")"
      ]
    },
    {
      "cell_type": "markdown",
      "metadata": {
        "id": "khe6EvQ3BX-J"
      },
      "source": [
        "### Columns with missing values"
      ]
    },
    {
      "cell_type": "markdown",
      "metadata": {
        "id": "nKI4CsKdBX-J"
      },
      "source": [
        "\n",
        "> ℹ️ **Instructions** ℹ️\n",
        ">\n",
        "> From the above result, probe the columns that are affected by the missing data to find out which stocks were affected.\n",
        ">\n",
        ">*You may use as many coding cells as necessary.*"
      ]
    },
    {
      "cell_type": "code",
      "execution_count": 14,
      "metadata": {
        "id": "PKNksmyeBX-J",
        "colab": {
          "base_uri": "https://localhost:8080/"
        },
        "outputId": "f43d4bc5-ee47-46a0-9a3f-06d5910178b2"
      },
      "outputs": [
        {
          "output_type": "stream",
          "name": "stdout",
          "text": [
            "Missing values in low:\n",
            "+-----+-----+\n",
            "|stock|count|\n",
            "+-----+-----+\n",
            "|  CAT|   22|\n",
            "|  NAV|   20|\n",
            "+-----+-----+\n",
            "\n",
            "Missing values in volume:\n",
            "+-----+-----+\n",
            "|stock|count|\n",
            "+-----+-----+\n",
            "|  JNJ|  252|\n",
            "|   FL|   21|\n",
            "+-----+-----+\n",
            "\n",
            "Missing values in adj_close:\n",
            "+-----+-----+\n",
            "|stock|count|\n",
            "+-----+-----+\n",
            "|  JNJ|   21|\n",
            "+-----+-----+\n",
            "\n"
          ]
        }
      ],
      "source": [
        "#TODO: Write your code here\n",
        "from pyspark.sql.functions import col, isnan\n",
        "\n",
        "# Loop through the columns identified as having missing values\n",
        "for column_with_missing_data in [\"low\", \"volume\", \"adj_close\"]: # Replace with actual column names\n",
        "\n",
        "    # Filter for rows with missing values in the current column\n",
        "    missing_data_rows = df.filter(isnan(column_with_missing_data) | col(column_with_missing_data).isNull())\n",
        "\n",
        "    # Group by stock and count occurrences of missing values\n",
        "    missing_data_by_stock = missing_data_rows.groupBy(\"stock\").count()\n",
        "\n",
        "    # Display the results for the current column\n",
        "    print(f\"Missing values in {column_with_missing_data}:\")\n",
        "    missing_data_by_stock.show()"
      ]
    },
    {
      "cell_type": "markdown",
      "metadata": {
        "id": "hnbkoZkkBX-K"
      },
      "source": [
        "#### Fix Completeness\n",
        "\n",
        "How do we deal with incomplete data?\n",
        "- Dropping missing values\n",
        "- Discard the incomplete column\n",
        "- Discard the rows containing missing data\n",
        "- Case deletion\n",
        "\n",
        "> ℹ️ **Instructions** ℹ️\n",
        ">\n",
        "> Use the appropriate strategy to remedy the missing data.\n",
        ">\n",
        ">*You may use as many coding cells as necessary.*"
      ]
    },
    {
      "cell_type": "code",
      "execution_count": 15,
      "metadata": {
        "id": "RIEltxS8BX-K",
        "scrolled": true
      },
      "outputs": [],
      "source": [
        "#TODO: Write your code here\n",
        "df_cleaned = df.dropna()"
      ]
    },
    {
      "cell_type": "markdown",
      "metadata": {
        "id": "1rU2gN3VBX-L"
      },
      "source": [
        "### Zero Values\n",
        "\n",
        "Take a deeper look into the entries with many zero values."
      ]
    },
    {
      "cell_type": "markdown",
      "metadata": {
        "id": "xXd2q5R6BX-L"
      },
      "source": [
        "#### Fix Completeness\n",
        "\n",
        "Completeness issues can be fixed through imputation of the missing data through:\n",
        "- imputation by mean/mode/median;\n",
        "- regression; or\n",
        "- KNN.\n",
        "\n",
        "> ℹ️ **Instructions** ℹ️\n",
        ">\n",
        "> Write code to identify and count the number of zeros (0) in the dataset. Include a percentage to describe the proportion of missing values per column. Output the results in the following manner:\n",
        ">\n",
        "> `There are <number_of_zeros> (<percentage>) zero values in <column_name> column`\n",
        ">\n",
        ">*You may use as many coding cells as necessary.*"
      ]
    },
    {
      "cell_type": "code",
      "execution_count": 16,
      "metadata": {
        "id": "hj2OTyYkBX-L",
        "colab": {
          "base_uri": "https://localhost:8080/"
        },
        "outputId": "53b1ce42-1065-432c-d54d-15818c260217"
      },
      "outputs": [
        {
          "output_type": "stream",
          "name": "stdout",
          "text": [
            "There are 2768 (54.21%) zero values in open column\n",
            "There are 20 (0.39%) zero values in high column\n",
            "There are 0 (0.00%) zero values in low column\n",
            "There are 0 (0.00%) zero values in close column\n",
            "There are 3825 (74.91%) zero values in volume column\n",
            "There are 27 (0.53%) zero values in adj_close column\n",
            "There are 0 (0.00%) zero values in stock column\n"
          ]
        }
      ],
      "source": [
        "#TODO: Write your code here\n",
        "from pyspark.sql.functions import col, count, when\n",
        "\n",
        "# Calculate zero values and percentages for each column\n",
        "for column in df.columns:\n",
        "    # Skip the 'date' column\n",
        "    if column == 'date':\n",
        "        continue\n",
        "\n",
        "    zero_count = df.select(count(when(col(column) == 0, column))).first()[0]\n",
        "    total_count = df.count()\n",
        "    percentage = (zero_count / total_count) * 100\n",
        "    print(f\"There are {zero_count} ({percentage:.2f}%) zero values in {column} column\")"
      ]
    },
    {
      "cell_type": "markdown",
      "metadata": {
        "id": "oOXYKUTqBX-M"
      },
      "source": [
        "From the above section, you find that there are a few columns that contain zero values. However, some of these are true zeros and are explainable. Your task is to distinguish which column should undergo data imputation.\n",
        "\n",
        "> ℹ️ **Instructions** ℹ️\n",
        ">\n",
        "> Investigate the columns with zero values and determine which one should undergo data imputation. Take note of the stock and month on which zero values occurred.\n",
        ">\n",
        ">*You may use as many coding cells as necessary.*"
      ]
    },
    {
      "cell_type": "code",
      "execution_count": 17,
      "metadata": {
        "id": "ac6N5cRQBX-M",
        "colab": {
          "base_uri": "https://localhost:8080/"
        },
        "outputId": "b3de3e23-7ba0-47c0-ac09-0398a2c24237"
      },
      "outputs": [
        {
          "output_type": "stream",
          "name": "stdout",
          "text": [
            "Zero values in open:\n",
            "+-----+-----+\n",
            "|stock|month|\n",
            "+-----+-----+\n",
            "|  CVX|    2|\n",
            "|  DTE|    2|\n",
            "|   ED|    2|\n",
            "|   FL|    2|\n",
            "|   GT|    2|\n",
            "+-----+-----+\n",
            "only showing top 5 rows\n",
            "\n",
            "Zero values in high:\n",
            "+-----+-----+\n",
            "|stock|month|\n",
            "+-----+-----+\n",
            "|  CAT|   11|\n",
            "|  CAT|   11|\n",
            "|  CAT|   11|\n",
            "|  CAT|   11|\n",
            "|  CAT|   11|\n",
            "+-----+-----+\n",
            "only showing top 5 rows\n",
            "\n",
            "Zero values in low:\n",
            "+-----+-----+\n",
            "|stock|month|\n",
            "+-----+-----+\n",
            "+-----+-----+\n",
            "\n",
            "Zero values in close:\n",
            "+-----+-----+\n",
            "|stock|month|\n",
            "+-----+-----+\n",
            "+-----+-----+\n",
            "\n",
            "Zero values in adj_close:\n",
            "+-----+-----+\n",
            "|stock|month|\n",
            "+-----+-----+\n",
            "|  XOM|    5|\n",
            "|  XOM|    5|\n",
            "|  JNJ|    9|\n",
            "|  XOM|    5|\n",
            "|  JNJ|    1|\n",
            "+-----+-----+\n",
            "only showing top 5 rows\n",
            "\n"
          ]
        }
      ],
      "source": [
        "#TODO: Write your code here\n",
        "from pyspark.sql.functions import month\n",
        "\n",
        "# Loop through the columns identified for imputation\n",
        "for column_to_impute in [\"open\", \"high\", \"low\", \"close\", \"adj_close\"]:\n",
        "    # Filter for rows with zero values in the current column\n",
        "    zero_value_rows = df.filter(df[column_to_impute] == 0)\n",
        "\n",
        "    # Extract stock and month information\n",
        "    zero_occurrences = zero_value_rows.select(\"stock\", month(\"date\").alias(\"month\"))\n",
        "\n",
        "    # Display the results for the current column\n",
        "    print(f\"Zero values in {column_to_impute}:\")\n",
        "    zero_occurrences.show(5)"
      ]
    },
    {
      "cell_type": "markdown",
      "metadata": {
        "id": "LYhwPvLRBX-N"
      },
      "source": [
        "> ℹ️ **Instructions** ℹ️\n",
        ">\n",
        "> Once you have identified the column that needs to undergo imputation, update the values for the affected records by using the average value for the affected stock.\n",
        ">\n",
        ">*You may use as many coding cells as necessary.*"
      ]
    },
    {
      "cell_type": "code",
      "execution_count": 18,
      "metadata": {
        "id": "fVdvHqQTBX-O"
      },
      "outputs": [],
      "source": [
        "#TODO: Write your code here\n",
        "#from pyspark.sql.functions import avg, when\n",
        "from pyspark.sql.functions import avg, when, col\n",
        "\n",
        "# Calculate the average value for each stock for the specified column\n",
        "stock_averages = df.groupBy(\"stock\").agg(avg(column_to_impute).alias(\"average_value\"))\n",
        "\n",
        "# Update the original DataFrame with the average values where the column is 0\n",
        "df_imputed = df.join(stock_averages, \"stock\", \"left\") \\\n",
        "               .withColumn(column_to_impute,\n",
        "                           when(col(column_to_impute) == 0, col(\"average_value\"))\n",
        "                           .otherwise(col(column_to_impute))) \\\n",
        "               .drop(\"average_value\")"
      ]
    },
    {
      "cell_type": "markdown",
      "metadata": {
        "id": "-fjXIh5xBX-P"
      },
      "source": [
        "\n",
        "## Consistency\n",
        "\n",
        "Consistency is the absence of difference when comparing two or more representations of a thing against a reference.\n",
        "\n",
        "Data entries that refer to the same record or entity have to be consistent across all entries, e.g., if you are dealing with records from a logger in the field, the entries for that logger have to remain consistent, and the name or primary key of that logger cannot change from one entry to another.\n",
        "\n",
        "For example, 'Logger1', 'Loger1' and 'Logge1' are examples of inconsistent keys.\n",
        "\n",
        "This is not just within a single table but also becomes more important if you are dealing with relational data. In which case, the mappings between tables and systems must be consistent. If not, the relationships will be completely lost between the tables and referential integrity compromised.\n",
        "\n",
        "- **Measured by**: Analysis of pattern and/or value frequency;\n",
        "- **Units**: Percentage;\n",
        "- **Related to**: Accuracy, Validity, and Uniqueness."
      ]
    },
    {
      "cell_type": "markdown",
      "metadata": {
        "id": "XnL-Qyy1BX-Q"
      },
      "source": [
        "> ℹ️ **Instructions** ℹ️\n",
        ">\n",
        "> There currently exists a stock that has inconsistent naming. Make use of the metadata to determine which stock is inconsistently named, then update the dataframe appropriately to get rid of this inconsistency.\n",
        ">\n",
        ">*You may use as many coding cells as necessary.*"
      ]
    },
    {
      "cell_type": "code",
      "execution_count": 20,
      "metadata": {
        "id": "KzNvo6W_BX-Q",
        "colab": {
          "base_uri": "https://localhost:8080/"
        },
        "outputId": "87d856f5-02b0-4fd2-b6b9-d3a05abef917"
      },
      "outputs": [
        {
          "output_type": "stream",
          "name": "stdout",
          "text": [
            "No matching Symbol found for ARNCA in metadata\n"
          ]
        }
      ],
      "source": [
        "#TODO: Write your code here\n",
        "# 1. Find the stock with inconsistent naming\n",
        "# Assuming the stock ticker column in your metadata is named 'Symbol'\n",
        "# and the corresponding column in your main DataFrame is named 'stock'\n",
        "# Load the metadata again with the correct path\n",
        "metadata_pd = pd.read_csv('https://processing-big-data-predict-stocks-data.s3.eu-west-1.amazonaws.com/symbols_valid_meta.csv')\n",
        "metadata = spark.createDataFrame(metadata_pd)\n",
        "\n",
        "inconsistent_stock = df.select(\"stock\").distinct().exceptAll(metadata.select(\"Symbol\")).first()[0]\n",
        "\n",
        "# 2. Get the correct name from metadata\n",
        "# Assuming the correct stock name is in a column named 'Security Name' in your metadata\n",
        "# Check if the filter results in any rows before attempting to access data\n",
        "filtered_metadata = metadata.filter(metadata[\"Symbol\"] == inconsistent_stock).select(\"Security Name\")\n",
        "if filtered_metadata.count() > 0:\n",
        "    correct_name = filtered_metadata.first()[0]\n",
        "else:\n",
        "    print(f\"No matching Symbol found for {inconsistent_stock} in metadata\")\n",
        "    # Handle the case where no match is found, e.g., skip updating, assign a default value, etc.\n",
        "    correct_name = inconsistent_stock  # or another appropriate action\n",
        "\n",
        "\n",
        "# 3. Update the DataFrame\n",
        "# Replace the inconsistent stock name with the correct name\n",
        "df_updated = df.withColumn(\"stock\", when(col(\"stock\") == inconsistent_stock, correct_name).otherwise(col(\"stock\")))"
      ]
    },
    {
      "cell_type": "markdown",
      "metadata": {
        "id": "Vh831hmrBX-R"
      },
      "source": [
        "## Timeliness\n",
        "\n",
        "Timeliness is the degree to which data represent reality from the required point in time.\n",
        "\n",
        "Timeliness expects that the data within your dataset is sufficiently up to date. If you are trying to answer questions that relate to recent problems, having timely data is extremely important. For example, you cannot use current flight patterns to model how many aeroplanes will be required by a large aeronautics company within the next 5-10 years.\n",
        "\n",
        "Similarly, when answering questions that require real-time answers (e.g., predicting when a pipe will burst in a manufacturing plant), you have to be set up to receive real-time data from sensors and loggers.\n",
        "\n",
        "- **Measured by**: Time difference;\n",
        "- **Units**: Time;\n",
        "- **Related to**: Accuracy because it will decay as time progress."
      ]
    },
    {
      "cell_type": "markdown",
      "metadata": {
        "id": "JlRTEAHvBX-S"
      },
      "source": [
        "It is important to see the latest value for each of the stocks that we are looking at:"
      ]
    },
    {
      "cell_type": "code",
      "execution_count": 22,
      "metadata": {
        "id": "0ROrgcV5BX-S",
        "colab": {
          "base_uri": "https://localhost:8080/"
        },
        "outputId": "dc4dbf1b-23ed-4fca-cf74-e3aef92ec554"
      },
      "outputs": [
        {
          "output_type": "stream",
          "name": "stdout",
          "text": [
            "+-----+----------+\n",
            "|stock| max(Date)|\n",
            "+-----+----------+\n",
            "|   AA|1962-12-31|\n",
            "|  XOM|1962-12-31|\n",
            "|  DIS|1962-12-31|\n",
            "|ARNCA|1962-07-31|\n",
            "|   PG|1962-12-31|\n",
            "|   GT|1962-12-31|\n",
            "|   MO|1962-12-31|\n",
            "|  IBM|1962-12-31|\n",
            "|  JNJ|1962-12-31|\n",
            "|  CVX|1962-12-31|\n",
            "|  DTE|1962-12-31|\n",
            "|   BA|1962-12-31|\n",
            "|   GE|1962-12-31|\n",
            "|  HPQ|1962-12-31|\n",
            "| ARNC|1962-12-31|\n",
            "|  CAT|1962-12-31|\n",
            "|   IP|1962-12-31|\n",
            "|   FL|1962-12-31|\n",
            "|   ED|1962-12-31|\n",
            "|  NAV|1962-12-31|\n",
            "+-----+----------+\n",
            "only showing top 20 rows\n",
            "\n"
          ]
        }
      ],
      "source": [
        "df.groupBy('stock').agg(F.max('Date')).show()"
      ]
    },
    {
      "cell_type": "markdown",
      "metadata": {
        "id": "8oe13UFxBX-S"
      },
      "source": [
        "Sometimes, some of these axes of data quality will be less important than others.\n",
        "This is one of those cases where it is less important to have timely data, since\n",
        "we are trying to create a training dataset for a stock market prediction algorithm.\n",
        "\n",
        "It is important to know the context in which you are doing your modelling."
      ]
    },
    {
      "cell_type": "markdown",
      "metadata": {
        "id": "FnT1-VoCBX-S"
      },
      "source": [
        "### Gaps in the dataset\n",
        "\n",
        "Let's see if we can find inconsistencies in the time series by having a look at the number of entries for each of the tickers.\n",
        "\n",
        "> ℹ️ **Instructions** ℹ️\n",
        ">\n",
        "> Uncomment and use the below code to determine which dates had entries that were not equal to 20. You may have to change the name of the dataframe to see the resultant output\n",
        ">\n",
        ">*You may use as many coding cells as necessary.*"
      ]
    },
    {
      "cell_type": "code",
      "execution_count": 23,
      "metadata": {
        "id": "T8NmKjR1BX-S",
        "colab": {
          "base_uri": "https://localhost:8080/"
        },
        "outputId": "a7f8b812-2e2f-4cac-f74e-450ff0be005c"
      },
      "outputs": [
        {
          "output_type": "stream",
          "name": "stdout",
          "text": [
            "+----------+-----+\n",
            "|      date|count|\n",
            "+----------+-----+\n",
            "|1962-02-06|   23|\n",
            "|1962-09-18|   21|\n",
            "|1962-09-10|   21|\n",
            "|1962-09-13|   21|\n",
            "|1962-02-27|   23|\n",
            "|1962-02-15|   23|\n",
            "|1962-02-16|   23|\n",
            "|1962-02-08|   23|\n",
            "|1962-02-02|   23|\n",
            "|1962-09-20|   21|\n",
            "|1962-09-19|   21|\n",
            "|1962-02-13|   23|\n",
            "|1962-02-01|   23|\n",
            "|1962-09-07|   21|\n",
            "|1962-09-21|   21|\n",
            "|1962-02-28|   23|\n",
            "|1962-02-23|   23|\n",
            "|1962-02-19|   23|\n",
            "|1962-02-07|   23|\n",
            "|1962-09-06|   21|\n",
            "|1962-09-28|   21|\n",
            "|1962-09-14|   21|\n",
            "|1962-09-17|   21|\n",
            "|1962-02-12|   23|\n",
            "|1962-02-09|   23|\n",
            "|1962-09-12|   21|\n",
            "|1962-02-14|   23|\n",
            "|1962-02-21|   23|\n",
            "|1962-09-26|   21|\n",
            "|1962-02-26|   23|\n",
            "|1962-09-04|   21|\n",
            "|1962-09-05|   21|\n",
            "|1962-09-25|   21|\n",
            "|1962-09-11|   21|\n",
            "|1962-09-27|   21|\n",
            "|1962-02-05|   23|\n",
            "|1962-09-24|   21|\n",
            "|1962-02-20|   23|\n",
            "|1962-12-12|   19|\n",
            "|1962-12-07|   19|\n",
            "|1962-12-14|   19|\n",
            "|1962-12-11|   19|\n",
            "|1962-12-17|   19|\n",
            "|1962-12-06|   19|\n",
            "|1962-12-04|   19|\n",
            "|1962-12-13|   19|\n",
            "|1962-12-10|   19|\n",
            "|1962-12-05|   19|\n",
            "+----------+-----+\n",
            "\n"
          ]
        }
      ],
      "source": [
        "df.orderBy('date').groupby('date').count().where(F.col('count') != 20).show(400)"
      ]
    },
    {
      "cell_type": "markdown",
      "metadata": {
        "id": "F5yDRErZBX-T"
      },
      "source": [
        "> ℹ️ **Instructions** ℹ️\n",
        ">\n",
        "> From the above result, investigate the number of times a stock appears for the given month. You can infer the months by using the output of the previous cell.\n",
        ">\n",
        ">*You may use as many coding cells as necessary.*"
      ]
    },
    {
      "cell_type": "code",
      "execution_count": 24,
      "metadata": {
        "id": "nwIc4sKvBX-T",
        "colab": {
          "base_uri": "https://localhost:8080/"
        },
        "outputId": "71554e27-1485-471b-f492-ef025ff5ae11"
      },
      "outputs": [
        {
          "output_type": "stream",
          "name": "stdout",
          "text": [
            "Stock appearances for month 12:\n",
            "+-----+-----+\n",
            "|stock|count|\n",
            "+-----+-----+\n",
            "|   AA|   20|\n",
            "|  XOM|   20|\n",
            "|  DIS|   20|\n",
            "|   PG|   20|\n",
            "|   GT|   20|\n",
            "|   MO|   20|\n",
            "|  IBM|   20|\n",
            "|  JNJ|   20|\n",
            "|  CVX|   20|\n",
            "|  DTE|   20|\n",
            "|   BA|   10|\n",
            "|   GE|   20|\n",
            "|  HPQ|   20|\n",
            "| ARNC|   20|\n",
            "|  CAT|   20|\n",
            "|   IP|   20|\n",
            "|   FL|   20|\n",
            "|   ED|   20|\n",
            "|  NAV|   20|\n",
            "|   KO|   20|\n",
            "+-----+-----+\n",
            "\n",
            "Stock appearances for month 9:\n",
            "+-----+-----+\n",
            "|stock|count|\n",
            "+-----+-----+\n",
            "|   AA|   19|\n",
            "|  XOM|   19|\n",
            "|  DIS|   19|\n",
            "|   PG|   19|\n",
            "|   GT|   19|\n",
            "|   MO|   19|\n",
            "|  IBM|   19|\n",
            "|  JNJ|   19|\n",
            "|  CVX|   19|\n",
            "|  DTE|   19|\n",
            "|   BA|   19|\n",
            "|   GE|   19|\n",
            "|  HPQ|   19|\n",
            "| ARNC|   19|\n",
            "|  CAT|   19|\n",
            "|   IP|   19|\n",
            "|   FL|   19|\n",
            "|   ED|   38|\n",
            "|  NAV|   19|\n",
            "|   KO|   19|\n",
            "+-----+-----+\n",
            "\n",
            "Stock appearances for month 2:\n",
            "+-----+-----+\n",
            "|stock|count|\n",
            "+-----+-----+\n",
            "|   AA|   19|\n",
            "|  XOM|   19|\n",
            "|  DIS|   19|\n",
            "|   PG|   19|\n",
            "|   GT|   19|\n",
            "|   MO|   19|\n",
            "|  IBM|   19|\n",
            "|  JNJ|   19|\n",
            "|  CVX|   19|\n",
            "|  DTE|   19|\n",
            "|   BA|   19|\n",
            "|   GE|   19|\n",
            "|  HPQ|   76|\n",
            "| ARNC|   19|\n",
            "|  CAT|   19|\n",
            "|   IP|   19|\n",
            "|   FL|   19|\n",
            "|   ED|   19|\n",
            "|  NAV|   19|\n",
            "|   KO|   19|\n",
            "+-----+-----+\n",
            "\n"
          ]
        }
      ],
      "source": [
        "#TODO: Write your code here\n",
        "from pyspark.sql.functions import month\n",
        "\n",
        "# Assuming 'inconsistent_dates_df' is the DataFrame from the previous step\n",
        "inconsistent_dates_df = df.orderBy('date').groupBy('date').count().where(F.col('count') != 20)\n",
        "\n",
        "# Extract the months from the inconsistent dates\n",
        "inconsistent_months = inconsistent_dates_df.select(month(\"date\").alias(\"month\")).distinct()\n",
        "\n",
        "# Loop through the inconsistent months and analyze stock appearances\n",
        "for row in inconsistent_months.collect():\n",
        "    current_month = row[\"month\"]\n",
        "\n",
        "    # Filter the original DataFrame for the current month\n",
        "    monthly_data = df.filter(month(\"date\") == current_month)\n",
        "\n",
        "    # Group by stock and count appearances\n",
        "    stock_appearances = monthly_data.groupBy(\"stock\").count()\n",
        "\n",
        "    # Display the results for the current month\n",
        "    print(f\"Stock appearances for month {current_month}:\")\n",
        "    stock_appearances.show()"
      ]
    },
    {
      "cell_type": "markdown",
      "metadata": {
        "id": "1UloHBfvBX-U"
      },
      "source": [
        "## Uniqueness\n",
        "\n",
        "Uniqueness requires that nothing will be recorded more than once based upon how that thing is identified. It is the inverse of an assessment of the level of duplication.\n",
        "\n",
        "Each entry within the dataset should only relate to a single event that has occurred and thus should not be duplicated. This is largely mediated by having the appropriate primary key, which means sticking to the requirements of a good primary key. All fields in the tables should be non-transitively dependent on the primary key.\n",
        "\n",
        "As such, deduplication of the dataset may be required.\n",
        "\n",
        "- **Measured by**: Analysis of the number of things assessed in the “real world” compared to the number of records of things in the dataset. This requires a reference dataset which is the ground truth;\n",
        "- **Units**: Percentage;\n",
        "- **Related to**: Consistency."
      ]
    },
    {
      "cell_type": "markdown",
      "metadata": {
        "id": "zm2Hc622BX-U"
      },
      "source": [
        "### Duplication Test\n",
        "For time-series data, it is important to check for duplications, as we typically expect all values to be unique within the dataset.\n",
        "\n",
        "The first thing to check will be if the primary key values within the dataset are unique - in our case, that will be a combination of the stock name and the date.\n",
        "\n",
        "Secondly, we want to check if the entries are all unique, which is done by checking for duplicates across that whole dataset."
      ]
    },
    {
      "cell_type": "markdown",
      "metadata": {
        "id": "y5Fv8MBeBX-U"
      },
      "source": [
        "> ℹ️ **Instructions** ℹ️\n",
        ">\n",
        "> Write code to determine if there are any duplicates within the data, and then proceed to correct this by dropping them from the dataframe.\n",
        ">\n",
        ">*You may use as many coding cells as necessary.*"
      ]
    },
    {
      "cell_type": "code",
      "execution_count": 25,
      "metadata": {
        "id": "7UoIpDBnBX-V",
        "colab": {
          "base_uri": "https://localhost:8080/"
        },
        "outputId": "92a28557-272b-4f98-c445-0da7c628cdc7"
      },
      "outputs": [
        {
          "output_type": "stream",
          "name": "stdout",
          "text": [
            "Duplicates found:\n",
            "+-----+----------+-----+\n",
            "|stock|      date|count|\n",
            "+-----+----------+-----+\n",
            "|  HPQ|1962-02-13|    4|\n",
            "|   ED|1962-09-20|    2|\n",
            "|   ED|1962-09-07|    2|\n",
            "|  HPQ|1962-02-15|    4|\n",
            "|  HPQ|1962-02-14|    4|\n",
            "|  HPQ|1962-02-28|    4|\n",
            "|   ED|1962-09-27|    2|\n",
            "|   ED|1962-09-25|    2|\n",
            "|  HPQ|1962-02-07|    4|\n",
            "|   ED|1962-09-13|    2|\n",
            "|   ED|1962-09-05|    2|\n",
            "|   ED|1962-09-17|    2|\n",
            "|  HPQ|1962-02-05|    4|\n",
            "|   ED|1962-09-11|    2|\n",
            "|  HPQ|1962-02-26|    4|\n",
            "|  HPQ|1962-02-23|    4|\n",
            "|  HPQ|1962-02-09|    4|\n",
            "|   ED|1962-09-04|    2|\n",
            "|   ED|1962-09-18|    2|\n",
            "|  HPQ|1962-02-27|    4|\n",
            "+-----+----------+-----+\n",
            "only showing top 20 rows\n",
            "\n"
          ]
        }
      ],
      "source": [
        "#TODO: Write your code here\n",
        "# Check for duplicates based on the primary key (stock, date)\n",
        "duplicates = df.groupBy(\"stock\", \"date\").count().filter(F.col(\"count\") > 1)\n",
        "\n",
        "# If duplicates are found, display them and proceed to drop them\n",
        "if duplicates.count() > 0:\n",
        "    print(\"Duplicates found:\")\n",
        "    duplicates.show()\n",
        "\n",
        "    # Drop duplicates, keeping the first occurrence\n",
        "    df_deduplicated = df.dropDuplicates([\"stock\", \"date\"])\n",
        "else:\n",
        "    print(\"No duplicates found.\")\n",
        "    df_deduplicated = df"
      ]
    },
    {
      "cell_type": "markdown",
      "metadata": {
        "id": "k3eR4G3JBX-V"
      },
      "source": [
        "## Validity\n",
        "Data is valid if it conforms to the syntax (format, type, range) of its definition.\n",
        "\n",
        "Certain values within a field may have specific criteria required to make it valid, e.g., numerical columns cannot contain alphabetical characters, which can occur due to scientific notation.\n",
        "\n",
        "This can be more difficult to determine in stings, in which case you may have to check using regex.\n",
        "\n",
        "- **Measured by**: Comparison between the data and metadata or documentation for the data item;\n",
        "- **Units**: Percentage of data items deemed Valid or Invalid;\n",
        "- **Related to**: Accuracy, Completeness, Consistency, and Uniqueness."
      ]
    },
    {
      "cell_type": "markdown",
      "metadata": {
        "id": "K2yqaqfwBX-V"
      },
      "source": [
        "We need to first define what we expect from our dataset:\n",
        "\n",
        "- stock: string (nullable = true) => Should be contained in the list of expected tickers\n",
        "- date: date (nullable = true) => Should conform to date format, and be in the past\n",
        "- open: double (nullable = true) => Should be positive or 0\n",
        "- high: double (nullable = true) => Should be positive or 0\n",
        "- low: double (nullable = true) => Should be positive or 0 (should be < high)\n",
        "- close: double (nullable = true) => Should be positive or 0 (should be <= high )\n",
        "- adj_close: double (nullable = true) => Should be positive or 0\n",
        "- volume: integer (nullable = true) => Should be positive or 0\n",
        "- high_avg: double (nullable = true) => Derived (not needed to test)\n",
        "- high_imp: double (nullable = true) => Derived (not needed to test)\n",
        "- day_of_week: string (nullable = true) => Derived (not needed to test)\n",
        "\n",
        "*Is there any other logic that we can incorporate?*"
      ]
    },
    {
      "cell_type": "markdown",
      "metadata": {
        "id": "kpi4u_J0BX-W"
      },
      "source": [
        "> ℹ️ **Instructions** ℹ️\n",
        ">\n",
        "> Use the metadata to check if all the stocks in your current dataframe are valid. In other words, make sure you have no foreign/unknown tickers in your dataframe.\n",
        ">\n",
        ">*You may use as many coding cells as necessary.*\n"
      ]
    },
    {
      "cell_type": "code",
      "execution_count": 26,
      "metadata": {
        "id": "d9FOoGJXBX-W",
        "colab": {
          "base_uri": "https://localhost:8080/"
        },
        "outputId": "d7a17d56-6ec9-42c4-ad4d-756763a5c093"
      },
      "outputs": [
        {
          "output_type": "stream",
          "name": "stdout",
          "text": [
            "Invalid stocks found:\n",
            "+-----+\n",
            "|stock|\n",
            "+-----+\n",
            "|ARNCA|\n",
            "+-----+\n",
            "\n"
          ]
        }
      ],
      "source": [
        "#TODO: Write your code here\n",
        "# Select distinct stocks from your data\n",
        "data_stocks = df.select(\"stock\").distinct()\n",
        "\n",
        "# Select valid stock symbols from metadata\n",
        "valid_stocks = metadata.select(\"Symbol\")\n",
        "\n",
        "# Find stocks in your data that are not in the metadata\n",
        "invalid_stocks = data_stocks.exceptAll(valid_stocks)\n",
        "\n",
        "# Display the invalid stocks (if any)\n",
        "if invalid_stocks.count() > 0:\n",
        "    print(\"Invalid stocks found:\")\n",
        "    invalid_stocks.show()\n",
        "else:\n",
        "    print(\"All stocks are valid.\")"
      ]
    },
    {
      "cell_type": "markdown",
      "metadata": {
        "id": "MCuuW46GBX-W"
      },
      "source": [
        "> ℹ️ **Instructions** ℹ️\n",
        ">\n",
        ">\n",
        ">Check if the date column contains only valid dates and all dates are in the past.\n",
        ">\n",
        ">*Valid dates should already be checked in the data reading step.*"
      ]
    },
    {
      "cell_type": "code",
      "execution_count": 27,
      "metadata": {
        "id": "zcNBsmSJBX-W",
        "colab": {
          "base_uri": "https://localhost:8080/"
        },
        "outputId": "188a9f8c-73f7-4bab-c2e1-a46f5ddf7520"
      },
      "outputs": [
        {
          "output_type": "stream",
          "name": "stdout",
          "text": [
            "All dates are in the past.\n"
          ]
        }
      ],
      "source": [
        "#TODO: Write your code here\n",
        "from pyspark.sql.functions import current_date\n",
        "\n",
        "# Check if all dates are in the past\n",
        "invalid_dates = df.filter(df[\"date\"] >= current_date())\n",
        "\n",
        "# Display invalid dates (if any)\n",
        "if invalid_dates.count() > 0:\n",
        "    print(\"Invalid dates found (dates in the future or today):\")\n",
        "    invalid_dates.show()\n",
        "else:\n",
        "    print(\"All dates are in the past.\")"
      ]
    },
    {
      "cell_type": "markdown",
      "metadata": {
        "id": "Vc9cgIzzBX-X"
      },
      "source": [
        "> ℹ️ **Instructions** ℹ️\n",
        ">\n",
        ">Check that all of numerical columns are positive."
      ]
    },
    {
      "cell_type": "code",
      "execution_count": 28,
      "metadata": {
        "id": "fepfICIyBX-X",
        "colab": {
          "base_uri": "https://localhost:8080/"
        },
        "outputId": "87a22899-599d-4875-8e2b-dc024f6ff59f"
      },
      "outputs": [
        {
          "output_type": "stream",
          "name": "stdout",
          "text": [
            "Column 'open' contains only positive or zero values.\n",
            "Column 'high' contains only positive or zero values.\n",
            "Column 'low' contains only positive or zero values.\n",
            "Column 'close' contains only positive or zero values.\n",
            "Column 'adj_close' contains only positive or zero values.\n",
            "Column 'volume' contains only positive or zero values.\n"
          ]
        }
      ],
      "source": [
        "#TODO: Write your code here\n",
        "numerical_cols = ['open', 'high', 'low', 'close', 'adj_close', 'volume']  # Replace with your numerical column names\n",
        "\n",
        "# Check for negative values in each numerical column\n",
        "for col_name in numerical_cols:\n",
        "    negative_values = df.filter(df[col_name] < 0)\n",
        "\n",
        "    if negative_values.count() > 0:\n",
        "        print(f\"Found negative values in column '{col_name}':\")\n",
        "        negative_values.show()  # Display the rows with negative values\n",
        "    else:\n",
        "        print(f\"Column '{col_name}' contains only positive or zero values.\")"
      ]
    },
    {
      "cell_type": "markdown",
      "metadata": {
        "id": "QRb9s19XBX-X"
      },
      "source": [
        "### Save Updates\n",
        "\n",
        "With our initial work of checking the various dimensions of the data quality completed, we can now save these results to a CSV file.  "
      ]
    },
    {
      "cell_type": "code",
      "execution_count": 29,
      "metadata": {
        "id": "OIZiPu8KBX-X"
      },
      "outputs": [],
      "source": [
        "pd_df = df.toPandas()"
      ]
    },
    {
      "cell_type": "code",
      "execution_count": 30,
      "metadata": {
        "id": "4NFt_GulBX-X"
      },
      "outputs": [],
      "source": [
        "pd_df.to_csv('./Koben_Heeralall_data_profiling.csv')"
      ]
    }
  ],
  "metadata": {
    "colab": {
      "provenance": [],
      "include_colab_link": true
    },
    "interpreter": {
      "hash": "24a0a2ddc4dffcb168e507551dd24967ddc40ea2df7a72a200a74e0ae6d88beb"
    },
    "kernelspec": {
      "display_name": "Python 3",
      "language": "python",
      "name": "python3"
    },
    "language_info": {
      "codemirror_mode": {
        "name": "ipython",
        "version": 3
      },
      "file_extension": ".py",
      "mimetype": "text/x-python",
      "name": "python",
      "nbconvert_exporter": "python",
      "pygments_lexer": "ipython3",
      "version": "3.8.8"
    }
  },
  "nbformat": 4,
  "nbformat_minor": 0
}